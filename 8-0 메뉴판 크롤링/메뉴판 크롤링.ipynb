{
 "cells": [
  {
   "cell_type": "code",
   "execution_count": 63,
   "id": "f87374ff",
   "metadata": {},
   "outputs": [],
   "source": [
    "import selenium\n",
    "from selenium import webdriver\n",
    "from selenium.webdriver import ActionChains\n",
    "\n",
    "from selenium.webdriver.common.keys import Keys\n",
    "from selenium.webdriver.common.by import By\n",
    "\n",
    "from selenium.webdriver.support import expected_conditions as EC\n",
    "from selenium.webdriver.support.ui import Select\n",
    "from selenium.webdriver.support.ui import WebDriverWait"
   ]
  },
  {
   "cell_type": "code",
   "execution_count": 64,
   "id": "46f54abf",
   "metadata": {},
   "outputs": [],
   "source": [
    "URL = 'http://www.menupan.com/restaurant/bestrest/bestrest.asp?pt=rt&areacode=jj201'\n",
    "\n",
    "driver = webdriver.Chrome(executable_path='chromedriver')\n",
    "driver.get(url=URL)"
   ]
  },
  {
   "cell_type": "code",
   "execution_count": 65,
   "id": "175cbb34",
   "metadata": {},
   "outputs": [],
   "source": [
    "result=[]"
   ]
  },
  {
   "cell_type": "code",
   "execution_count": 66,
   "id": "0333579b",
   "metadata": {},
   "outputs": [
    {
     "name": "stderr",
     "output_type": "stream",
     "text": [
      "C:\\Users\\ui\\AppData\\Local\\Temp/ipykernel_7080/1425734723.py:8: DeprecationWarning: find_element_by_* commands are deprecated. Please use find_element() instead\n",
      "  for i in driver.find_element_by_xpath(\"//span[@class='restName']\"): # /html/body/center/div[2]/div[2]/div[3]/dl[1]/dd\n"
     ]
    },
    {
     "name": "stdout",
     "output_type": "stream",
     "text": [
      "오류 'WebElement' object is not iterable\n",
      "오류 'WebElement' object is not iterable\n",
      "오류 'WebElement' object is not iterable\n",
      "오류 'WebElement' object is not iterable\n",
      "오류 'WebElement' object is not iterable\n",
      "오류 'WebElement' object is not iterable\n",
      "오류 'WebElement' object is not iterable\n",
      "오류 'WebElement' object is not iterable\n",
      "오류 'WebElement' object is not iterable\n",
      "오류 'WebElement' object is not iterable\n",
      "오류 'WebElement' object is not iterable\n",
      "오류 'WebElement' object is not iterable\n",
      "오류 'WebElement' object is not iterable\n",
      "오류 'WebElement' object is not iterable\n",
      "오류 'WebElement' object is not iterable\n",
      "오류 'WebElement' object is not iterable\n",
      "오류 'WebElement' object is not iterable\n",
      "오류 'WebElement' object is not iterable\n",
      "오류 'WebElement' object is not iterable\n",
      "오류 'WebElement' object is not iterable\n",
      "오류 'WebElement' object is not iterable\n",
      "오류 'WebElement' object is not iterable\n",
      "오류 'WebElement' object is not iterable\n",
      "오류 'WebElement' object is not iterable\n",
      "오류 'WebElement' object is not iterable\n",
      "오류 'WebElement' object is not iterable\n",
      "오류 'WebElement' object is not iterable\n",
      "오류 'WebElement' object is not iterable\n",
      "오류 'WebElement' object is not iterable\n",
      "오류 'WebElement' object is not iterable\n",
      "오류 'WebElement' object is not iterable\n",
      "오류 'WebElement' object is not iterable\n"
     ]
    }
   ],
   "source": [
    "for page in range(1,33):\n",
    "    try:\n",
    "        script='goPage(%s)'% page\n",
    "        driver.execute_script(script)\n",
    "        time.sleep(2)\n",
    "        current_window=driver.current_window_handle\n",
    "        \n",
    "        for i in driver.find_element_by_xpath(\"//span[@class='restName']\"):\n",
    "            i.click()\n",
    "            driver.switch_to_window(driver.window_handles[-1])\n",
    "            name=driver.find_element_by_xpath(\"//[@calss='name']\").text   \n",
    "            type1=driver.find_element_by_xpath(\"//[@calss='type']\").text\n",
    "            tel1=driver.find_element_by_xpath(\"//[@calss='tel1']\").text\n",
    "            add1=driver.find_element_by_xpath(\"//[@calss='add1']\").text\n",
    "            total1=driver.find_element_by_xpath(\"//[@calss='total1']\").text\n",
    "            text1=driver.find_element_by_xpath(\"//[@calss='text1']\").text\n",
    "            driver.close()\n",
    "            driver.swith_to_window(current_window)\n",
    "            result.append({\"이름\": namem,\"업종\":type1,\"전화번호\":tel1,\"주소\":add1,\"평점\":total,\"휴일\":tex1})\n",
    "            df=pd.DataFrame(results)\n",
    "    except Exception as e1:\n",
    "        print(\"오류\", e1)\n",
    "            \n",
    "            "
   ]
  },
  {
   "cell_type": "code",
   "execution_count": null,
   "id": "8c1cf7f1",
   "metadata": {},
   "outputs": [],
   "source": []
  }
 ],
 "metadata": {
  "kernelspec": {
   "display_name": "Python 3 (ipykernel)",
   "language": "python",
   "name": "python3"
  },
  "language_info": {
   "codemirror_mode": {
    "name": "ipython",
    "version": 3
   },
   "file_extension": ".py",
   "mimetype": "text/x-python",
   "name": "python",
   "nbconvert_exporter": "python",
   "pygments_lexer": "ipython3",
   "version": "3.8.12"
  }
 },
 "nbformat": 4,
 "nbformat_minor": 5
}
