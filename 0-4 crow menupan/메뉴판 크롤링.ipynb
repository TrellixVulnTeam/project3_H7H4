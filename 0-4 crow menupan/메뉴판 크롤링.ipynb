{
 "cells": [
  {
   "cell_type": "code",
   "execution_count": 27,
   "id": "f022e2b6",
   "metadata": {},
   "outputs": [],
   "source": [
    "import selenium\n",
    "import time\n",
    "from selenium import webdriver\n",
    "from selenium.webdriver import ActionChains\n",
    "from selenium.webdriver.common.keys import Keys\n",
    "from selenium.webdriver.common.by import By\n",
    "from selenium.webdriver.support import expected_conditions as EC\n",
    "from selenium.webdriver.support.ui import Select\n",
    "from selenium.webdriver.support.ui import WebDriverWait\n",
    "import pandas as pd"
   ]
  },
  {
   "cell_type": "code",
   "execution_count": 28,
   "id": "ebac5af0",
   "metadata": {},
   "outputs": [],
   "source": [
    "URL = 'http://www.menupan.com/restaurant/bestrest/bestrest.asp?pt=rt&areacode=jj201'\n",
    "\n",
    "driver = webdriver.Chrome(executable_path='chromedriver')\n",
    "driver.get(url=URL)"
   ]
  },
  {
   "cell_type": "code",
   "execution_count": 29,
   "id": "0d192eca",
   "metadata": {},
   "outputs": [],
   "source": [
    "result=[]"
   ]
  },
  {
   "cell_type": "code",
   "execution_count": 30,
   "id": "92806020",
   "metadata": {},
   "outputs": [],
   "source": [
    "# for page in range(1,33):\n",
    "#     try:\n",
    "#         script='goPage(%s)'% page\n",
    "#         driver.execute_script(script)\n",
    "#         time.sleep(2)\n",
    "#         current_window=driver.current_window_handle\n",
    "        \n",
    "#         for i in driver.find_element_by_xpath(\"//span[@class='restName']\"):\n",
    "#             i.click()\n",
    "#             driver.switch_to_window(driver.window_handles[-1])\n",
    "#             name=driver.find_element_by_xpath(\"//[@calss='name']\").text   \n",
    "#             type1=driver.find_element_by_xpath(\"//[@calss='type1']\").text\n",
    "#             tel1=driver.find_element_by_xpath(\"//[@calss='tel1']\").text\n",
    "#             add1=driver.find_element_by_xpath(\"//[@calss='add1']\").text\n",
    "#             total1=driver.find_element_by_xpath(\"//[@calss='total1']\").text\n",
    "#             text1=driver.find_element_by_xpath(\"//[@calss='text1']\").text\n",
    "#             driver.close()\n",
    "#             driver.swith_to_window(current_window)\n",
    "#             result.append({\"이름\": namem,\"업종\":type1,\"전화번호\":tel1,\"주소\":add1,\"평점\":total,\"휴일\":tex1})\n",
    "#             df=pd.DataFrame(results)\n",
    "#     except Exception as e1:\n",
    "#         print(\"오류\", e1)\n",
    "            \n",
    "            "
   ]
  },
  {
   "cell_type": "code",
   "execution_count": 31,
   "id": "607593ce",
   "metadata": {},
   "outputs": [],
   "source": [
    "# for page in range(1,33):\n",
    "#     try:\n",
    "#         script='goPage(%s)'% page\n",
    "#         driver.execute_script(script)\n",
    "#         time.sleep(2)\n",
    "#         current_window=driver.current_window_handle\n",
    "        \n",
    "#         for i in driver.find_elements_by_xpath(\"//span[@class='restName']\"):\n",
    "#             i.click()\n",
    "#             driver.switch_to.window(driver.window_handles[-1])\n",
    "#             name = driver.find_element_by_class_name('name').text\n",
    "#             type1 = driver.find_element_by_class_name('type').text\n",
    "#             tel1 = driver.find_element_by_class_name('tel1').text\n",
    "#             add1 = driver.find_element_by_class_name('add1').text\n",
    "#             total1 = driver.find_element_by_class_name('total').text\n",
    "#             text1 = driver.find_element_by_class_name('txt1').text\n",
    "#             driver.close()\n",
    "#             driver.switch_to.window(current_window)\n",
    "#             result.append({\"이름\": name,\"업종\":type1,\"전화번호\":tel1,\"주소\":add1,\"평점\":total,\"휴일\":text1})\n",
    "            \n",
    "#     except Exception as e1:\n",
    "#         print(\"오류\", e1)"
   ]
  },
  {
   "cell_type": "code",
   "execution_count": 32,
   "id": "8ea796e7",
   "metadata": {},
   "outputs": [
    {
     "name": "stderr",
     "output_type": "stream",
     "text": [
      "C:\\Users\\ui\\AppData\\Local\\Temp/ipykernel_16208/2399753844.py:8: DeprecationWarning: find_elements_by_* commands are deprecated. Please use find_elements() instead\n",
      "  for i in driver.find_elements_by_xpath(\"//span[@class='restName']\"):\n",
      "C:\\Users\\ui\\AppData\\Local\\Temp/ipykernel_16208/2399753844.py:11: DeprecationWarning: find_element_by_* commands are deprecated. Please use find_element() instead\n",
      "  name = driver.find_element_by_class_name('name').text\n",
      "C:\\Users\\ui\\AppData\\Local\\Temp/ipykernel_16208/2399753844.py:12: DeprecationWarning: find_element_by_* commands are deprecated. Please use find_element() instead\n",
      "  type1 = driver.find_element_by_class_name('type').text\n",
      "C:\\Users\\ui\\AppData\\Local\\Temp/ipykernel_16208/2399753844.py:13: DeprecationWarning: find_element_by_* commands are deprecated. Please use find_element() instead\n",
      "  tel1 = driver.find_element_by_class_name('tel1').text\n",
      "C:\\Users\\ui\\AppData\\Local\\Temp/ipykernel_16208/2399753844.py:14: DeprecationWarning: find_element_by_* commands are deprecated. Please use find_element() instead\n",
      "  add1 = driver.find_element_by_class_name('add1').text\n",
      "C:\\Users\\ui\\AppData\\Local\\Temp/ipykernel_16208/2399753844.py:15: DeprecationWarning: find_element_by_* commands are deprecated. Please use find_element() instead\n",
      "  total1 = driver.find_element_by_class_name('total').text\n",
      "C:\\Users\\ui\\AppData\\Local\\Temp/ipykernel_16208/2399753844.py:16: DeprecationWarning: find_element_by_* commands are deprecated. Please use find_element() instead\n",
      "  text1 = driver.find_element_by_class_name('txt1').text\n"
     ]
    },
    {
     "name": "stdout",
     "output_type": "stream",
     "text": [
      "오류 Message: no such element: Unable to locate element: {\"method\":\"css selector\",\"selector\":\".name\"}\n",
      "  (Session info: chrome=95.0.4638.54)\n",
      "Stacktrace:\n",
      "Backtrace:\n",
      "\tOrdinal0 [0x006A3AB3+2505395]\n",
      "\tOrdinal0 [0x0063AE41+2076225]\n",
      "\tOrdinal0 [0x00542498+1057944]\n",
      "\tOrdinal0 [0x0056CB74+1231732]\n",
      "\tOrdinal0 [0x00596D92+1404306]\n",
      "\tOrdinal0 [0x00585A2A+1333802]\n",
      "\tOrdinal0 [0x00595168+1397096]\n",
      "\tOrdinal0 [0x005858BB+1333435]\n",
      "\tOrdinal0 [0x005623E4+1188836]\n",
      "\tOrdinal0 [0x0056323F+1192511]\n",
      "\tGetHandleVerifier [0x0082CB36+1554566]\n",
      "\tGetHandleVerifier [0x008D4A0C+2242396]\n",
      "\tGetHandleVerifier [0x00730E0B+523099]\n",
      "\tGetHandleVerifier [0x0072FEB0+519168]\n",
      "\tOrdinal0 [0x006402FD+2097917]\n",
      "\tOrdinal0 [0x00644388+2114440]\n",
      "\tOrdinal0 [0x006444C2+2114754]\n",
      "\tOrdinal0 [0x0064E041+2154561]\n",
      "\tBaseThreadInitThunk [0x7666FA29+25]\n",
      "\tRtlGetAppContainerNamedObjectPath [0x77957A9E+286]\n",
      "\tRtlGetAppContainerNamedObjectPath [0x77957A6E+238]\n",
      "\n",
      "오류 Message: no such element: Unable to locate element: {\"method\":\"css selector\",\"selector\":\".name\"}\n",
      "  (Session info: chrome=95.0.4638.54)\n",
      "Stacktrace:\n",
      "Backtrace:\n",
      "\tOrdinal0 [0x006A3AB3+2505395]\n",
      "\tOrdinal0 [0x0063AE41+2076225]\n",
      "\tOrdinal0 [0x00542498+1057944]\n",
      "\tOrdinal0 [0x0056CB74+1231732]\n",
      "\tOrdinal0 [0x00596D92+1404306]\n",
      "\tOrdinal0 [0x00585A2A+1333802]\n",
      "\tOrdinal0 [0x00595168+1397096]\n",
      "\tOrdinal0 [0x005858BB+1333435]\n",
      "\tOrdinal0 [0x005623E4+1188836]\n",
      "\tOrdinal0 [0x0056323F+1192511]\n",
      "\tGetHandleVerifier [0x0082CB36+1554566]\n",
      "\tGetHandleVerifier [0x008D4A0C+2242396]\n",
      "\tGetHandleVerifier [0x00730E0B+523099]\n",
      "\tGetHandleVerifier [0x0072FEB0+519168]\n",
      "\tOrdinal0 [0x006402FD+2097917]\n",
      "\tOrdinal0 [0x00644388+2114440]\n",
      "\tOrdinal0 [0x006444C2+2114754]\n",
      "\tOrdinal0 [0x0064E041+2154561]\n",
      "\tBaseThreadInitThunk [0x7666FA29+25]\n",
      "\tRtlGetAppContainerNamedObjectPath [0x77957A9E+286]\n",
      "\tRtlGetAppContainerNamedObjectPath [0x77957A6E+238]\n",
      "\n",
      "오류 Message: no such element: Unable to locate element: {\"method\":\"css selector\",\"selector\":\".name\"}\n",
      "  (Session info: chrome=95.0.4638.54)\n",
      "Stacktrace:\n",
      "Backtrace:\n",
      "\tOrdinal0 [0x006A3AB3+2505395]\n",
      "\tOrdinal0 [0x0063AE41+2076225]\n",
      "\tOrdinal0 [0x00542498+1057944]\n",
      "\tOrdinal0 [0x0056CB74+1231732]\n",
      "\tOrdinal0 [0x00596D92+1404306]\n",
      "\tOrdinal0 [0x00585A2A+1333802]\n",
      "\tOrdinal0 [0x00595168+1397096]\n",
      "\tOrdinal0 [0x005858BB+1333435]\n",
      "\tOrdinal0 [0x005623E4+1188836]\n",
      "\tOrdinal0 [0x0056323F+1192511]\n",
      "\tGetHandleVerifier [0x0082CB36+1554566]\n",
      "\tGetHandleVerifier [0x008D4A0C+2242396]\n",
      "\tGetHandleVerifier [0x00730E0B+523099]\n",
      "\tGetHandleVerifier [0x0072FEB0+519168]\n",
      "\tOrdinal0 [0x006402FD+2097917]\n",
      "\tOrdinal0 [0x00644388+2114440]\n",
      "\tOrdinal0 [0x006444C2+2114754]\n",
      "\tOrdinal0 [0x0064E041+2154561]\n",
      "\tBaseThreadInitThunk [0x7666FA29+25]\n",
      "\tRtlGetAppContainerNamedObjectPath [0x77957A9E+286]\n",
      "\tRtlGetAppContainerNamedObjectPath [0x77957A6E+238]\n",
      "\n"
     ]
    }
   ],
   "source": [
    "for page in range(1,33):\n",
    "    try:\n",
    "        script='goPage(%s)'% page\n",
    "        driver.execute_script(script)\n",
    "        time.sleep(2)\n",
    "        current_window=driver.current_window_handle\n",
    "        \n",
    "        for i in driver.find_elements_by_xpath(\"//span[@class='restName']\"):\n",
    "            i.click()\n",
    "            driver.switch_to.window(driver.window_handles[-1])\n",
    "            name = driver.find_element_by_class_name('name').text\n",
    "            type1 = driver.find_element_by_class_name('type').text\n",
    "            tel1 = driver.find_element_by_class_name('tel1').text\n",
    "            add1 = driver.find_element_by_class_name('add1').text\n",
    "            total1 = driver.find_element_by_class_name('total').text\n",
    "            text1 = driver.find_element_by_class_name('txt1').text\n",
    "            driver.close()\n",
    "            driver.switch_to.window(current_window)\n",
    "            result.append({\"이름\": name,\"업종\":type1,\"전화번호\":tel1,\"주소\":add1,\"평점\":total1,\"휴일\":text1})\n",
    "            \n",
    "    except Exception as e1:\n",
    "        print(\"오류\", e1)"
   ]
  },
  {
   "cell_type": "code",
   "execution_count": 33,
   "id": "14a33e34",
   "metadata": {},
   "outputs": [],
   "source": [
    "df = pd.DataFrame(result)"
   ]
  },
  {
   "cell_type": "code",
   "execution_count": 34,
   "id": "3449aadf",
   "metadata": {},
   "outputs": [],
   "source": [
    "df.to_csv('./mebu.csv', index=False)\n",
    "\n"
   ]
  },
  {
   "cell_type": "code",
   "execution_count": null,
   "id": "b95b431c",
   "metadata": {},
   "outputs": [],
   "source": []
  }
 ],
 "metadata": {
  "interpreter": {
   "hash": "b761edd244315410471dba5114c2802369d2cf5aeabb0fbe0b7f635c62baddb4"
  },
  "kernelspec": {
   "display_name": "Python 3 (ipykernel)",
   "language": "python",
   "name": "python3"
  },
  "language_info": {
   "codemirror_mode": {
    "name": "ipython",
    "version": 3
   },
   "file_extension": ".py",
   "mimetype": "text/x-python",
   "name": "python",
   "nbconvert_exporter": "python",
   "pygments_lexer": "ipython3",
   "version": "3.8.12"
  }
 },
 "nbformat": 4,
 "nbformat_minor": 5
}
