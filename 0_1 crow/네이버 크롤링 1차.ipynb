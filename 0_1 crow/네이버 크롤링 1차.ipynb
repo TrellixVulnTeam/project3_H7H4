{
 "cells": [
  {
   "cell_type": "code",
   "execution_count": 7,
   "id": "dea3397a",
   "metadata": {},
   "outputs": [
    {
     "ename": "SyntaxError",
     "evalue": "unexpected EOF while parsing (<ipython-input-7-60e92bcae126>, line 32)",
     "output_type": "error",
     "traceback": [
      "\u001b[1;36m  File \u001b[1;32m\"<ipython-input-7-60e92bcae126>\"\u001b[1;36m, line \u001b[1;32m32\u001b[0m\n\u001b[1;33m    #         pass\u001b[0m\n\u001b[1;37m                  ^\u001b[0m\n\u001b[1;31mSyntaxError\u001b[0m\u001b[1;31m:\u001b[0m unexpected EOF while parsing\n"
     ]
    }
   ],
   "source": [
    "import pandas as pd\n",
    "from selenium import webdriver\n",
    "import time\n",
    "\n",
    "df = pd.read_csv('sb_restaurant.csv', sep=',', encoding='CP949')\n",
    "\n",
    "df = df[['업소명', '소재지도로명', '업태명', '주된음식', '행정동명', '소재지전화번호']]\n",
    "df.columns = ['name', 'address', 'cate1', 'cate2', 'dong', 'phone']\n",
    "df = df.drop_duplicates(['name'], keep='first')\n",
    "\n",
    "df['cate_mix'] = df['cate1'] + df['cate2']\n",
    "\n",
    "print(df)\n",
    "\n",
    "driver = webdriver.Chrome('chromedriver.exe')\n",
    "df['kakao_keyword'] = df['dong'] + \" \" + df['name']\n",
    "\n",
    "for i, keyword in enumerate(df['kakao_keyword'].tolist()):\n",
    "    print(keyword, end=\" \")\n",
    "    try:\n",
    "        kakao_map_search_url = f\"https://map.kakao.com/?q={keyword}\"\n",
    "        driver.get(kakao_map_search_url)\n",
    "        time.sleep(1)\n",
    "\n",
    "#         rate = driver.find_element_by_css_selector(\"#info\\.search\\.place\\.list > li.PlaceItem.clickArea.PlaceItem-ACTIVE > div.rating.clickArea > span.score > em\").text\n",
    "#         rateNum = driver.find_element_by_css_selector(\"#info\\.search\\.place\\.list > li.PlaceItem.clickArea.PlaceItem-ACTIVE > div.rating.clickArea > span.score > a\").text\n",
    "\n",
    "#         print(\"리뷰 \" + rateNum + \", 평점 \" + rate)\n",
    "\n",
    "#     except Exception as e1:\n",
    "#         print(\"정보 없음\")\n",
    "#         pass"
   ]
  },
  {
   "cell_type": "code",
   "execution_count": null,
   "id": "1bd9a18a",
   "metadata": {},
   "outputs": [],
   "source": []
  },
  {
   "cell_type": "code",
   "execution_count": null,
   "id": "c0911fbe",
   "metadata": {},
   "outputs": [],
   "source": []
  },
  {
   "cell_type": "code",
   "execution_count": null,
   "id": "32a61717",
   "metadata": {},
   "outputs": [],
   "source": []
  }
 ],
 "metadata": {
  "kernelspec": {
   "display_name": "Python 3",
   "language": "python",
   "name": "python3"
  },
  "language_info": {
   "codemirror_mode": {
    "name": "ipython",
    "version": 3
   },
   "file_extension": ".py",
   "mimetype": "text/x-python",
   "name": "python",
   "nbconvert_exporter": "python",
   "pygments_lexer": "ipython3",
   "version": "3.8.8"
  }
 },
 "nbformat": 4,
 "nbformat_minor": 5
}
