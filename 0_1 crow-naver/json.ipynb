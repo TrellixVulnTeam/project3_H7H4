{
 "cells": [
  {
   "cell_type": "code",
   "execution_count": 4,
   "id": "6df41796",
   "metadata": {},
   "outputs": [],
   "source": [
    "import pandas as pd\n",
    "import numpy as np\n",
    "import json"
   ]
  },
  {
   "cell_type": "code",
   "execution_count": 6,
   "id": "7a248c1e",
   "metadata": {},
   "outputs": [],
   "source": [
    "image = pd.read_json('./image.json')\n",
    "\n"
   ]
  },
  {
   "cell_type": "code",
   "execution_count": 8,
   "id": "840ea01d",
   "metadata": {},
   "outputs": [
    {
     "name": "stdout",
     "output_type": "stream",
     "text": [
      "<class 'pandas.core.frame.DataFrame'>\n",
      "Index: 5027 entries, 36882244_5cbb032177919be02c5c6020 to 19709793_5c6e6acd4bb61f68d9a4ce33\n",
      "Columns: 600 entries, 별도봉오리사냥 to 산방산초가집\n",
      "dtypes: float64(70), object(530)\n",
      "memory usage: 23.1+ MB\n"
     ]
    }
   ],
   "source": [
    "image.info()"
   ]
  },
  {
   "cell_type": "code",
   "execution_count": null,
   "id": "0e037c99",
   "metadata": {},
   "outputs": [],
   "source": []
  }
 ],
 "metadata": {
  "kernelspec": {
   "display_name": "Python 3 (ipykernel)",
   "language": "python",
   "name": "python3"
  },
  "language_info": {
   "codemirror_mode": {
    "name": "ipython",
    "version": 3
   },
   "file_extension": ".py",
   "mimetype": "text/x-python",
   "name": "python",
   "nbconvert_exporter": "python",
   "pygments_lexer": "ipython3",
   "version": "3.8.12"
  }
 },
 "nbformat": 4,
 "nbformat_minor": 5
}
