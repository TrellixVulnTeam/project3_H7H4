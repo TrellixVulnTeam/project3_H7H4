{
 "cells": [
  {
   "cell_type": "markdown",
   "id": "092cbf31",
   "metadata": {},
   "source": [
    "#비동기식이란 여러가지 일이 동시적으로 발생한다는 뜻으로.서봐와 통신하는 동안 다른 작업을 할수 있다는 의미"
   ]
  },
  {
   "cell_type": "code",
   "execution_count": null,
   "id": "14e6b6c5",
   "metadata": {},
   "outputs": [],
   "source": [
    "# 자바 ㅅ크립트를 이용해서 비동기식으로 서봐와 통신하는 방식 이때 xml을 이용한다.\n",
    "# 꼭 xml을 이용할 필요는 없고.최근에는 json을 더 많이 이용한다\n",
    "# 비동기식으로 영러가지 일이 동시적으로 발생한다는 뜻으로 서버와 통신하는 동안 다른 작업이 가능\n"
   ]
  },
  {
   "cell_type": "code",
   "execution_count": null,
   "id": "a77d0765",
   "metadata": {},
   "outputs": [],
   "source": [
    "# jquery를 이용한 ajax통신의 가장 기본적인 api\n",
    "# 주요속성\n",
    "# data : 서버에 전송할 데이터, ket/value 형식의 객체\n",
    "# datatype :: 서버가 리턴하는 데이터 타입(xml.json.scrit.html)\n",
    "# type: 서버로 전송하는 데이터의 타입(post,get)\n",
    "# url: 데이터를 전송할 url\n",
    "# soceeess:ajax통신에 성공햇을때 호출된 이벤트 핸들러"
   ]
  },
  {
   "cell_type": "code",
   "execution_count": null,
   "id": "8cc4d08e",
   "metadata": {},
   "outputs": [],
   "source": [
    "웹페이지 "
   ]
  },
  {
   "cell_type": "code",
   "execution_count": null,
   "id": "8d714f16",
   "metadata": {},
   "outputs": [],
   "source": [
    "<!DOCTYPE html>\n",
    "<html>\n",
    "    <head>\n",
    "        <script src=\"http://code.jquery.com/jquery-latest.js\"></script>\n",
    "    </head>\n",
    "    <body>\n",
    "        <div id=\"result\"></div>     #배열식\n",
    "        <input type=\"text\" id=\"msg\" />  #배열식\n",
    "        <input type=\"button\" value=\"get result\" id=\"getResult\" />  #배열식\n",
    "        <script>\n",
    "            $('#getResult').click( function() {\n",
    "                $('#result').html('');\n",
    "                $.ajax({\n",
    "                    url:'http://opentutorials.org/example/jquery/example.jquery.ajax.php',\n",
    "                    dataType:'json',\n",
    "                    type:'POST',\n",
    "                    data:{'msg':$('#msg').val()},\n",
    "                    success:function(result){\n",
    "                        if(result['result']==true){\n",
    "                          $('#result').html(result['msg']);\n",
    "                        }\n",
    "                    }\n",
    "                });\n",
    "            })\n",
    "        </script>\n",
    "    </body>\n",
    "</html>"
   ]
  },
  {
   "cell_type": "code",
   "execution_count": null,
   "id": "e50b0a1b",
   "metadata": {},
   "outputs": [],
   "source": [
    "서버쪽 로직"
   ]
  },
  {
   "cell_type": "code",
   "execution_count": null,
   "id": "e7c47420",
   "metadata": {},
   "outputs": [],
   "source": [
    "<?\n",
    "echo json_encode(array('result'=>true, 'msg'=>$_REQUEST['msg']));\n",
    "?>"
   ]
  },
  {
   "cell_type": "code",
   "execution_count": null,
   "id": "c9ceb577",
   "metadata": {},
   "outputs": [],
   "source": []
  },
  {
   "cell_type": "code",
   "execution_count": null,
   "id": "ed9dd055",
   "metadata": {},
   "outputs": [],
   "source": [
    "# post> coding everybody "
   ]
  },
  {
   "cell_type": "code",
   "execution_count": null,
   "id": "8880db7a",
   "metadata": {},
   "outputs": [],
   "source": [
    "# 그러면 올바른 응답시 {\"result\":true,\"msg\":\"coding everybody\"}"
   ]
  },
  {
   "cell_type": "code",
   "execution_count": null,
   "id": "c084b333",
   "metadata": {},
   "outputs": [],
   "source": [
    "# 자바스크립트외 php는 서로 데이터형이 다르기 때문에 두개사이에서 약속을 만들어서\n",
    "#약속은 어떤식으로 기술한다등으로 해서 주고받는 기능"
   ]
  },
  {
   "cell_type": "code",
   "execution_count": null,
   "id": "e6afc1f2",
   "metadata": {},
   "outputs": [],
   "source": [
    "#"
   ]
  }
 ],
 "metadata": {
  "kernelspec": {
   "display_name": "Python 3 (ipykernel)",
   "language": "python",
   "name": "python3"
  },
  "language_info": {
   "codemirror_mode": {
    "name": "ipython",
    "version": 3
   },
   "file_extension": ".py",
   "mimetype": "text/x-python",
   "name": "python",
   "nbconvert_exporter": "python",
   "pygments_lexer": "ipython3",
   "version": "3.8.12"
  }
 },
 "nbformat": 4,
 "nbformat_minor": 5
}
