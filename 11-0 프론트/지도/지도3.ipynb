{
 "cells": [
  {
   "cell_type": "code",
   "execution_count": 4,
   "id": "de985326",
   "metadata": {},
   "outputs": [
    {
     "name": "stdout",
     "output_type": "stream",
     "text": [
      "{'name': ['유스테이추자', '제일식당', '봉골레밥상', '추자북경', '유가네한우곰탕', '추자바다숯불갈비', '황금섬숯불갈비', '보라네', '추자향기', '고향향토장터'], 'address': ['제주특별자치도 제주시 추자면 신양2길 28-12', '제주특별자치도 제주시 추자면 추자로 16-2', '제주특별자치도 제주시 추자면 대서3길 40 1층', '제주특별자치도 제주시 추자면 신양서길 13-9 1층', '제주특별자치도 제주시 추자면 추자로 50 1층', '제주특별자치도 제주시 추자면 추자로 94-1', '제주특별자치도 제주시 추자면 추자로 36', '제주특별자치도 제주시 추자면 추자로 96 1층', '제주특별자치도 제주시 추자면 추자로 42', '제주특별자치도 제주시 추자면 추자로 576 신양어촌계 1층'], 'OMscore': [4.678966075876694, 4.672870009087205, 4.6626222616643265, 4.662483643122634, 4.662481272534135, 4.6573719128935736, 4.653807807504407, 4.653240359872738, 4.651628742997595, 4.650694704466099], 'Latitude': [33.94477, 33.96364, 33.96293, 33.9419531, 33.96272, 33.95972, 33.96302, 33.95955, 33.9627928, 33.94541], 'Longtitude': [126.3304, 126.2972, 126.2946, 126.3204842, 126.2942, 126.2963, 126.2957, 126.2963, 126.2953354, 126.3279], 'upjong': ['기타', '한식', '기타', '중국식', '식육(숯불구이)', '식육(숯불구이)', '식육(숯불구이)', '한식', '한식', '한식']}\n"
     ]
    }
   ],
   "source": [
    "import json\n",
    "f = open('OMscore.json', encoding=\"utf-8\")\n",
    "attractions = json.load(f)\n",
    "print(attractions)\n",
    "f.close()"
   ]
  },
  {
   "cell_type": "code",
   "execution_count": 5,
   "id": "9138eeda",
   "metadata": {},
   "outputs": [
    {
     "ename": "SyntaxError",
     "evalue": "invalid syntax (Temp/ipykernel_1660/608341854.py, line 1)",
     "output_type": "error",
     "traceback": [
      "\u001b[1;36m  File \u001b[1;32m\"C:\\Users\\ui\\AppData\\Local\\Temp/ipykernel_1660/608341854.py\"\u001b[1;36m, line \u001b[1;32m1\u001b[0m\n\u001b[1;33m    :\u001b[0m\n\u001b[1;37m    ^\u001b[0m\n\u001b[1;31mSyntaxError\u001b[0m\u001b[1;31m:\u001b[0m invalid syntax\n"
     ]
    }
   ],
   "source": [
    ":\n",
    "# 위 데이터 구조를 보면 상호면 10개 주소 10개 이런식인데 이를 \n",
    "#0: name,address.OMRATE,위도경도\n",
    "#1: name,address.OMRATE,위도경도\n",
    "#2: name,address.OMRATE,위도경도    \n",
    "#이린식으로 바꾸겟다"
   ]
  },
  {
   "cell_type": "code",
   "execution_count": 6,
   "id": "fba0e13f",
   "metadata": {},
   "outputs": [
    {
     "name": "stdout",
     "output_type": "stream",
     "text": [
      "{'name': ['유스테이추자', '제일식당', '봉골레밥상', '추자북경', '유가네한우곰탕', '추자바다숯불갈비', '황금섬숯불갈비', '보라네', '추자향기', '고향향토장터'], 'address': ['제주특별자치도 제주시 추자면 신양2길 28-12', '제주특별자치도 제주시 추자면 추자로 16-2', '제주특별자치도 제주시 추자면 대서3길 40 1층', '제주특별자치도 제주시 추자면 신양서길 13-9 1층', '제주특별자치도 제주시 추자면 추자로 50 1층', '제주특별자치도 제주시 추자면 추자로 94-1', '제주특별자치도 제주시 추자면 추자로 36', '제주특별자치도 제주시 추자면 추자로 96 1층', '제주특별자치도 제주시 추자면 추자로 42', '제주특별자치도 제주시 추자면 추자로 576 신양어촌계 1층'], 'OMscore': [4.678966075876694, 4.672870009087205, 4.6626222616643265, 4.662483643122634, 4.662481272534135, 4.6573719128935736, 4.653807807504407, 4.653240359872738, 4.651628742997595, 4.650694704466099], 'Latitude': [33.94477, 33.96364, 33.96293, 33.9419531, 33.96272, 33.95972, 33.96302, 33.95955, 33.9627928, 33.94541], 'Longtitude': [126.3304, 126.2972, 126.2946, 126.3204842, 126.2942, 126.2963, 126.2957, 126.2963, 126.2953354, 126.3279], 'upjong': ['기타', '한식', '기타', '중국식', '식육(숯불구이)', '식육(숯불구이)', '식육(숯불구이)', '한식', '한식', '한식']}\n",
      "{'name': '유스테이추자', 'address': '제주특별자치도 제주시 추자면 신양2길 28-12', 'upjong': '기타', 'OMscore': '4.678966075876694', 'Latitude': '33.94477', 'Longtitude': '126.3304'}\n",
      "{'name': '제일식당', 'address': '제주특별자치도 제주시 추자면 추자로 16-2', 'upjong': '한식', 'OMscore': '4.672870009087205', 'Latitude': '33.96364', 'Longtitude': '126.2972'}\n",
      "{'name': '봉골레밥상', 'address': '제주특별자치도 제주시 추자면 대서3길 40 1층', 'upjong': '기타', 'OMscore': '4.6626222616643265', 'Latitude': '33.96293', 'Longtitude': '126.2946'}\n",
      "{'name': '추자북경', 'address': '제주특별자치도 제주시 추자면 신양서길 13-9 1층', 'upjong': '중국식', 'OMscore': '4.662483643122634', 'Latitude': '33.9419531', 'Longtitude': '126.3204842'}\n",
      "{'name': '유가네한우곰탕', 'address': '제주특별자치도 제주시 추자면 추자로 50 1층', 'upjong': '식육(숯불구이)', 'OMscore': '4.662481272534135', 'Latitude': '33.96272', 'Longtitude': '126.2942'}\n",
      "{'name': '추자바다숯불갈비', 'address': '제주특별자치도 제주시 추자면 추자로 94-1', 'upjong': '식육(숯불구이)', 'OMscore': '4.6573719128935736', 'Latitude': '33.95972', 'Longtitude': '126.2963'}\n",
      "{'name': '황금섬숯불갈비', 'address': '제주특별자치도 제주시 추자면 추자로 36', 'upjong': '식육(숯불구이)', 'OMscore': '4.653807807504407', 'Latitude': '33.96302', 'Longtitude': '126.2957'}\n",
      "{'name': '보라네', 'address': '제주특별자치도 제주시 추자면 추자로 96 1층', 'upjong': '한식', 'OMscore': '4.653240359872738', 'Latitude': '33.95955', 'Longtitude': '126.2963'}\n",
      "{'name': '추자향기', 'address': '제주특별자치도 제주시 추자면 추자로 42', 'upjong': '한식', 'OMscore': '4.651628742997595', 'Latitude': '33.9627928', 'Longtitude': '126.2953354'}\n",
      "{'name': '고향향토장터', 'address': '제주특별자치도 제주시 추자면 추자로 576 신양어촌계 1층', 'upjong': '한식', 'OMscore': '4.650694704466099', 'Latitude': '33.94541', 'Longtitude': '126.3279'}\n"
     ]
    }
   ],
   "source": [
    "\n",
    "#view.py 전체 코드\n",
    "\n",
    "import json\n",
    "f = open('OMscore.json', encoding=\"utf-8\")\n",
    "attractions = json.load(f)\n",
    "print(attractions)\n",
    "f.close()\n",
    "\n",
    "\n",
    "attractiondict = []\n",
    "for i in (range(10)):\n",
    "    content = {\n",
    "    \"name\": attractions['name'][i],\n",
    "    \"address\": str(attractions['address'][i]),\n",
    "     \"upjong\": str(attractions['upjong'][i]),\n",
    "    \"OMscore\": str(attractions['OMscore'][i]),\n",
    "    \"Latitude\": str(attractions['Latitude'][i]),\n",
    "    \"Longtitude\": str(attractions['Longtitude'][i]),\n",
    "    }\n",
    "    print(content)\n",
    "   # attractiondict.append(content)\n",
    "  #  attractionJson = json.dumps(attractiondict, ensure_ascii=False)\n",
    "# return render(request, 'map/map.html', {'attractionJson': attractionJson})"
   ]
  },
  {
   "cell_type": "code",
   "execution_count": null,
   "id": "d9ea0851",
   "metadata": {},
   "outputs": [],
   "source": [
    "attractiondict = []\n",
    "for i in (range(10)):\n",
    "    content = {\n",
    "    \"name\": attractions['name'][i],\n",
    "    \"address\": str(attractions['address'][i]),\n",
    "    \"upjong\": str(attractions['upjong'][i]),\n",
    "    \"OMscore\": str(attractions['OMscore'][i]),\n",
    "    \"Latitude\": str(attractions['Latitude'][i]),\n",
    "    \"Longtitude\": str(attractions['Longtitude'][i]),\n",
    "    }\n",
    "    attractiondict.append(content)\n",
    "attractionJson = json.dumps(attractiondict, ensure_ascii=False)"
   ]
  },
  {
   "cell_type": "code",
   "execution_count": null,
   "id": "c5cdc9f9",
   "metadata": {},
   "outputs": [],
   "source": [
    "print(attractiondict)"
   ]
  },
  {
   "cell_type": "code",
   "execution_count": null,
   "id": "2e87adad",
   "metadata": {},
   "outputs": [],
   "source": [
    "attractionJson"
   ]
  },
  {
   "cell_type": "code",
   "execution_count": null,
   "id": "e1431d7a",
   "metadata": {},
   "outputs": [],
   "source": []
  },
  {
   "cell_type": "code",
   "execution_count": null,
   "id": "bd8f510d",
   "metadata": {},
   "outputs": [],
   "source": [
    "<!DOCTYPE html>\n",
    "<html>\n",
    "<head>\n",
    "    <meta charset=\"utf-8\">\n",
    "    <title>당신을 위한 10대 맛집을 추천합니다.</title>\n",
    "    <style>\n",
    "    .wrap {position: absolute;left: 0;bottom: 40px;width: 288px;height: 132px;margin-left: -144px;text-align: left;overflow: hidden;font-size: 12px;font-family: 'Malgun Gothic', dotum, '돋움', sans-serif;line-height: 1.5;}\n",
    "    .wrap * {padding: 0;margin: 0;}\n",
    "    .wrap .info {width: 286px;height: 120px;border-radius: 5px;border-bottom: 2px solid #ccc;border-right: 1px solid #ccc;overflow: hidden;background: #fff;}\n",
    "    .wrap .info:nth-child(1) {border: 0;box-shadow: 0px 1px 2px #888;}\n",
    "    .info .title {padding: 5px 0 0 10px;height: 30px;background: #eee;border-bottom: 1px solid #ddd;font-size: 18px;font-weight: bold;}\n",
    "    .info .close {position: absolute;top: 10px;right: 10px;color: #888;width: 17px;height: 17px;background: url('https://t1.daumcdn.net/localimg/localimages/07/mapapidoc/overlay_close.png');}\n",
    "    .info .close:hover {cursor: pointer;}\n",
    "    .info .body {position: relative;overflow: hidden;}\n",
    "    .info .desc {position: relative;margin: 13px 0 0 90px;height: 75px;}\n",
    "    .desc .ellipsis {overflow: hidden;text-overflow: ellipsis;white-space: nowrap;}\n",
    "    .desc .jibun {font-size: 11px;color: #888;margin-top: -2px;}\n",
    "    .info .img {position: absolute;top: 6px;left: 5px;width: 73px;height: 71px;border: 1px solid #ddd;color: #888;overflow: hidden;}\n",
    "    .info:after {content: '';position: absolute;margin-left: -12px;left: 50%;bottom: 0;width: 22px;height: 12px;background: url('https://t1.daumcdn.net/localimg/localimages/07/mapapidoc/vertex_white.png')}\n",
    "    .info .link {color: #5085BB;}\n",
    "    \n",
    "    .map_wrap, .map_wrap * {margin:0;padding:0;font-family:'Malgun Gothic',dotum,'돋움',sans-serif;font-size:12px;}\n",
    "    .map_wrap a, .map_wrap a:hover, .map_wrap a:active{color:#000;text-decoration: none;}\n",
    "    .map_wrap {position:relative;width:100%;height:500px;}\n",
    "#menu_wrap {position:absolute;top:0;left:0;bottom:0;width:250px;margin:10px 0 30px 10px;padding:5px;overflow-y:auto;background:rgba(255, 255, 255, 0.7);z-index: 1;font-size:12px;border-radius: 10px;}\n",
    "    .bg_white {background:#fff;}             \n",
    "    </style>               \n",
    "</head>\n",
    "         \n",
    "<body>\n",
    "<script type=\"text/javascript\" src=\"//dapi.kakao.com/v2/maps/sdk.js?appkey=발급받은 api키\">                 \n",
    "<div id=\"map\" style=\"width:100%;height:350px;\"></div>                             \n",
    "                 \n",
    "var mapContainer = document.getElementById('map'), // 지도의 중심좌표\n",
    "    mapOption = { \n",
    "        center: new kakao.maps.LatLng(33.32141, 126.3148), // 지도의 중심좌표\n",
    "        level: 3 // 지도의 확대 레벨\n",
    "    }; \n",
    "\n",
    "var map = new kakao.maps.Map(mapContainer, mapOption); // 지도를 생성합니다\n",
    "\n",
    "      \n",
    "                      \n",
    "\n",
    "// 지도 타입 변경 컨트롤을 생성한다\n",
    "var mapTypeControl = new kakao.maps.MapTypeControl();\n",
    "\n",
    "// 지도의 상단 우측에 지도 타입 변경 컨트롤을 추가한다\n",
    "map.addControl(mapTypeControl, kakao.maps.ControlPosition.TOPRIGHT);   \n",
    "\n",
    "// 지도에 확대 축소 컨트롤을 생성한다\n",
    "var zoomControl = new kakao.maps.ZoomControl();\n",
    "\n",
    "// 지도의 우측에 확대 축소 컨트롤을 추가한다\n",
    "map.addControl(zoomControl, kakao.maps.ControlPosition.RIGHT);               \n",
    "\n",
    "// # 이거 안되면 escapejs 를 secret 변경  # 에러방지용   , json 잘들어오는거크롬 콘솔창에서 확인가능            \n",
    "var attractions = JSON.parse(\"{{ attractionJson|escapejs }}\");\n",
    "console.log(attractions)  \n",
    "// json 잘들어오는거크롬 콘솔창에서 확인가능 \n",
    "// 마커 표시하기           \n",
    "// 마커 위치에 관한 내용및 name 객체 배열에 담는 과정입니다               \n",
    "var positions = [];\n",
    "for (var i = 0; i < Object.keys(attractions).length; i++) {\n",
    "  var content = {\n",
    "    name: attractions[i].name,\n",
    "    latlng: new kakao.maps.LatLng(attractions[i].Latitude, attractions[i].Longtitude),\n",
    "    address: attractions[i].address,\n",
    "    upjong: attractions[i].upjong,  \n",
    "    OMscore: attractions[i].OMscore,\n",
    "  }\n",
    "  positions.push(content);\n",
    "};\n",
    "console.log(positions);\n",
    "               \n",
    "               \n",
    "               \n",
    "// 마커 이미지의 이미지 주소입니다\n",
    "var imageSrc = \"https://t1.daumcdn.net/localimg/localimages/07/mapapidoc/marker_number_blue.png\";               \n",
    "               \n",
    "for (var i = 0; i < positions.length; i++) {\n",
    "  // 마커 이미지의 이미지 크기 입니다\n",
    "  var imageSize = new kakao.maps.Size(24, 35);\n",
    "  // 마커 이미지를 생성합니다\n",
    "  var markerImage = new kakao.maps.MarkerImage(imageSrc, imageSize);\n",
    "  // 마커를 생성합니다\n",
    "  var marker = new kakao.maps.Marker({\n",
    "    map: map, // 마커를 표시할 지도\n",
    "    position: positions[i].latlng, // 마커를 표시할 위치\n",
    "    name: positions[i].name, // 마커의 타이틀, 마커에 마우스를 올리면 타이틀이 표시됩니다      \n",
    "    image: markerImage // 마커 이미지\n",
    "  })\n",
    "};               \n",
    "//marker.setMap(map);               \n",
    "               \n",
    "// 진짜 시작은 인제부터..ㅡㅡㅡ               \n",
    "               \n",
    "(function(marker, place) {\n",
    "  // 마크 클릭 시\n",
    "  kakao.maps.event.addListener(marker, 'click', function() {\n",
    "    var overlay = new kakao.maps.CustomOverlay({\n",
    "      // 오버레이에 띄울 내용\n",
    "      content: '<div class=\"wrap\">' +\n",
    "            '    <div class=\"info\">' +\n",
    "            '        <div class=\"title\">' +\n",
    "            place.name +\n",
    "            '        </div>' +\n",
    "            '        <div class=\"body\">' +\n",
    "            '            <div class=\"desc\">' +\n",
    "            '                <div class=\"ellipsis\">' + place.address + '</div>' +\n",
    "            '\t\t         <div class=\"jibun ellipsis\">' + place.upjong + '</div>' +\n",
    "            '\t\t         <div class=\"omscore ellipsis\">' + place.OMscore + '</div>' +\n",
    "            '            </div>' +\n",
    "            '        </div>' +\n",
    "            '    </div>' +\n",
    "            '</div>',\n",
    "      map: map,\n",
    "      position: marker.getPosition()\n",
    "    });\n",
    "    // 아무데나 클릭하게되면 overlay를 끄기\n",
    "    kakao.maps.event.addListener(map, 'click', function(mouseEvent) {\n",
    "      overlay.setMap(null)\n",
    "    })\n",
    "    console.log(overlay);\n",
    "    overlay.setMap(map);\n",
    "  })\n",
    "})(marker, positions[i])               \n",
    "               \n",
    "               \n",
    "               \n",
    "               \n",
    "</script>"
   ]
  },
  {
   "cell_type": "code",
   "execution_count": null,
   "id": "265aee8b",
   "metadata": {},
   "outputs": [],
   "source": []
  },
  {
   "cell_type": "code",
   "execution_count": null,
   "id": "f0f52e41",
   "metadata": {},
   "outputs": [],
   "source": []
  },
  {
   "cell_type": "code",
   "execution_count": null,
   "id": "c0966b5e",
   "metadata": {},
   "outputs": [],
   "source": []
  },
  {
   "cell_type": "code",
   "execution_count": null,
   "id": "8a8c7d48",
   "metadata": {},
   "outputs": [],
   "source": []
  },
  {
   "cell_type": "code",
   "execution_count": null,
   "id": "cbcbc4f7",
   "metadata": {},
   "outputs": [],
   "source": []
  }
 ],
 "metadata": {
  "kernelspec": {
   "display_name": "Python 3 (ipykernel)",
   "language": "python",
   "name": "python3"
  },
  "language_info": {
   "codemirror_mode": {
    "name": "ipython",
    "version": 3
   },
   "file_extension": ".py",
   "mimetype": "text/x-python",
   "name": "python",
   "nbconvert_exporter": "python",
   "pygments_lexer": "ipython3",
   "version": "3.8.12"
  }
 },
 "nbformat": 4,
 "nbformat_minor": 5
}
