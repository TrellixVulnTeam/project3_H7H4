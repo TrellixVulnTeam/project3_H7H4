{
 "cells": [
  {
   "cell_type": "code",
   "execution_count": 2,
   "id": "78078ad0",
   "metadata": {},
   "outputs": [],
   "source": [
    "import requests\n",
    "import urllib.parse as urlparse\n",
    "from geopy import distance\n",
    "import  folium\n",
    "\n",
    "class Route:\n",
    "    def __init__(self, headers={\"X-NCP-APIGW-API-KEY-ID\": \"4rC5urm6tLQwzAMgWM5K\",\n",
    "                                \"X-NCP-APIGW-API-KEY\": \"STzqPRYvuC\"}):\n",
    "        self.headers = headers\n",
    "\n",
    "    # 출발지 -> 위경도 변환\n",
    "    def addr_to_xy(self):\n",
    "        # 주소값 입력\n",
    "        self.d1_name = input(\"출발지 1을 입력하세요. : \")\n",
    "        # URL 설정\n",
    "        self.d1_url = \"https://naveropenapi.apigw.ntruss.com/map-geocode/v2/geocode?query={}\".format(self.d1_name)\n",
    "        # 리퀘스트\n",
    "        self.response1 = requests.get(self.d1_url, headers=self.headers)\n",
    "        # JSON 파싱하여 위경도 추출\n",
    "        self.d1_x = self.response1.json()[\"addresses\"][0][\"x\"]\n",
    "        self.d1_y = self.response1.json()[\"addresses\"][0][\"y\"]\n",
    "        return self.d1_x, self.d1_y"
   ]
  },
  {
   "cell_type": "code",
   "execution_count": 3,
   "id": "d69008ef",
   "metadata": {},
   "outputs": [],
   "source": [
    "# 카카오\n",
    "# 앱 키\n",
    "# 네이티브 앱 키\t13b96c927718e22c6470508985e161b4\n",
    "# REST API 키\tf8cfa8db42c3c1fdd779035f9f26a05e\n",
    "# JavaScript 키\t08116b7659b3d3bae291e55290518470\n",
    "# Admin 키\teb999c76c09c27a1a5e0a90853aa8691"
   ]
  },
  {
   "cell_type": "code",
   "execution_count": 4,
   "id": "8f5cabd5",
   "metadata": {},
   "outputs": [
    {
     "ename": "SyntaxError",
     "evalue": "invalid syntax (Temp/ipykernel_16604/503859322.py, line 2)",
     "output_type": "error",
     "traceback": [
      "\u001b[1;36m  File \u001b[1;32m\"C:\\Users\\ui\\AppData\\Local\\Temp/ipykernel_16604/503859322.py\"\u001b[1;36m, line \u001b[1;32m2\u001b[0m\n\u001b[1;33m    <!DOCTYPE html>\u001b[0m\n\u001b[1;37m    ^\u001b[0m\n\u001b[1;31mSyntaxError\u001b[0m\u001b[1;31m:\u001b[0m invalid syntax\n"
     ]
    }
   ],
   "source": [
    "# index\n",
    "<!DOCTYPE html>\n",
    "<html>\n",
    "<head>\n",
    "    <meta charset=\"utf-8\">\n",
    "    <title>여정문님 고생하세요!</title>\n",
    "    \n",
    "</head>\n",
    "<body>\n",
    "<div id=\"map\" style=\"width:100%;height:100vh;\"></div>\n",
    "<script type=\"text/javascript\" src=\"https://dapi.kakao.com/v2/maps/sdk.js?appkey=your_appkey\"></script>\n",
    "<script>\n",
    "var mapContainer = document.getElementById('map'),  \n",
    "    mapOption = { \n",
    "        center: new kakao.maps.LatLng(33.2141, 126.3148), # 맵 중심--제주도면 한라산!!!\n",
    "        level: 4 \n",
    "    };\n",
    "var map = new kakao.maps.Map(mapContainer, mapOption); // 지도를 생성합니다\n",
    "# var positions = [\n",
    "#     {\n",
    "#         content: '<div>동쪽</div>', \n",
    "#         latlng: new kakao.maps.LatLng(37.5657, 126.9769)  #지도범위\n",
    "#     },\n",
    "#     {\n",
    "#         content: '<div>서쪽</div>', \n",
    "#         latlng: new kakao.maps.LatLng(37.5658, 126.9751)  #지도범위\n",
    "#     },\n",
    "#     {\n",
    "#         content: '<div>남쪽</div>', \n",
    "#         latlng: new kakao.maps.LatLng(37.5669, 126.9708)  #지도범위\n",
    "#     },\n",
    "#     {\n",
    "#         content: '<div>북쪽</div>',\n",
    "#         latlng: new kakao.maps.LatLng(37.5690, 126.9697)  #지도범위\n",
    "#     }\n",
    "# ];\n",
    "\n",
    "for (var i = 0; i < positions.length; i ++) {\n",
    "    var marker = new kakao.maps.Marker({\n",
    "        map: map, \n",
    "        position: positions[i].latlng\n",
    "    });\n",
    "\n",
    "    var infowindow = new kakao.maps.InfoWindow({\n",
    "        content: positions[i].content \n",
    "    });\n",
    "    kakao.maps.event.addListener(marker, 'mouseover', makeOverListener(map, marker, infowindow));\n",
    "    kakao.maps.event.addListener(marker, 'mouseout', makeOutListener(infowindow));\n",
    "}\n",
    "function makeOverListener(map, marker, infowindow) {\n",
    "    return function() {\n",
    "        infowindow.open(map, marker);\n",
    "    };\n",
    "}\n",
    "function makeOutListener(infowindow) {\n",
    "    return function() {\n",
    "        infowindow.close();\n",
    "    };\n",
    "}\n",
    "</script>\n",
    "</body>\n",
    "</html>"
   ]
  },
  {
   "cell_type": "code",
   "execution_count": 5,
   "id": "330a7db2",
   "metadata": {},
   "outputs": [
    {
     "ename": "NameError",
     "evalue": "name 'jeju' is not defined",
     "output_type": "error",
     "traceback": [
      "\u001b[1;31m---------------------------------------------------------------------------\u001b[0m",
      "\u001b[1;31mNameError\u001b[0m                                 Traceback (most recent call last)",
      "\u001b[1;32m~\\AppData\\Local\\Temp/ipykernel_16604/1329747475.py\u001b[0m in \u001b[0;36m<module>\u001b[1;34m\u001b[0m\n\u001b[0;32m      2\u001b[0m \u001b[0mmap_jeju\u001b[0m \u001b[1;33m=\u001b[0m \u001b[0mfolium\u001b[0m\u001b[1;33m.\u001b[0m\u001b[0mMap\u001b[0m\u001b[1;33m(\u001b[0m\u001b[0mlocation\u001b[0m\u001b[1;33m=\u001b[0m\u001b[1;33m[\u001b[0m\u001b[1;36m33.2141\u001b[0m\u001b[1;33m,\u001b[0m \u001b[1;36m126.3148\u001b[0m\u001b[1;33m]\u001b[0m\u001b[1;33m,\u001b[0m \u001b[0mzoom_start\u001b[0m\u001b[1;33m=\u001b[0m\u001b[1;36m16\u001b[0m\u001b[1;33m)\u001b[0m\u001b[1;33m\u001b[0m\u001b[1;33m\u001b[0m\u001b[0m\n\u001b[0;32m      3\u001b[0m \u001b[1;33m\u001b[0m\u001b[0m\n\u001b[1;32m----> 4\u001b[1;33m \u001b[1;32mfor\u001b[0m \u001b[0mi\u001b[0m \u001b[1;32min\u001b[0m \u001b[0mjeju\u001b[0m\u001b[1;33m.\u001b[0m\u001b[0mindex\u001b[0m\u001b[1;33m:\u001b[0m\u001b[1;33m\u001b[0m\u001b[1;33m\u001b[0m\u001b[0m\n\u001b[0m\u001b[0;32m      5\u001b[0m      \u001b[1;31m# 행 우선 접근 방식으로 값 추출하기\u001b[0m\u001b[1;33m\u001b[0m\u001b[1;33m\u001b[0m\u001b[1;33m\u001b[0m\u001b[0m\n\u001b[0;32m      6\u001b[0m     \u001b[0mname\u001b[0m \u001b[1;33m=\u001b[0m \u001b[0mjeju\u001b[0m\u001b[1;33m.\u001b[0m\u001b[0mloc\u001b[0m\u001b[1;33m[\u001b[0m\u001b[0mi\u001b[0m\u001b[1;33m,\u001b[0m \u001b[1;34m'name'\u001b[0m\u001b[1;33m]\u001b[0m\u001b[1;33m\u001b[0m\u001b[1;33m\u001b[0m\u001b[0m\n",
      "\u001b[1;31mNameError\u001b[0m: name 'jeju' is not defined"
     ]
    }
   ],
   "source": [
    "\n",
    "#row.data 파일이름을 total2가 아니라 jeju로 정의하고 시작함\n",
    "map_jeju = folium.Map(location=[33.2141, 126.3148], zoom_start=16)\n",
    "\n",
    "for i in jeju.index:\n",
    "     # 행 우선 접근 방식으로 값 추출하기\n",
    "    name = jeju.loc[i, 'name']  \n",
    "    upjong = jeju.loc[i, \"upjong\"]\n",
    "    address = jeju.loc[i, \"address\"]\n",
    "    category = jeju.loc[i, \"category\"]\n",
    "    rat_avg= jeju.loc[i, \"rat_avg\"]\n",
    "    img = jeju.loc[i, \"img\"]  # 이미지 받아온게 있으려나...없으면 이내용삭제!! \n",
    "    html = '''\n",
    "    이름 : {}<br>\n",
    "    업종 : {}<br>\n",
    "    주소 : {}<br>\n",
    "    카테고리 : {}<br>\n",
    "    평점_평균 : {}br>\n",
    "    <img src=\"{}\" alt=\"이미지\" width=\"400\" />\n",
    "    '''.format(name, upjong ,address, category, rat_avg,img)\n",
    "    \n",
    "    iframe = folium.IFrame(html, width=500, height=300)\n",
    "    popup = folium.Popup(iframe, max_width=500)\n",
    "    marker = folium.Marker([lat,lng], popup=popup)\n",
    "    marker.add_to(map_jeju )\n",
    "    \n",
    "map_jeju"
   ]
  },
  {
   "cell_type": "code",
   "execution_count": null,
   "id": "3c5395b1",
   "metadata": {},
   "outputs": [],
   "source": []
  }
 ],
 "metadata": {
  "kernelspec": {
   "display_name": "Python 3 (ipykernel)",
   "language": "python",
   "name": "python3"
  },
  "language_info": {
   "codemirror_mode": {
    "name": "ipython",
    "version": 3
   },
   "file_extension": ".py",
   "mimetype": "text/x-python",
   "name": "python",
   "nbconvert_exporter": "python",
   "pygments_lexer": "ipython3",
   "version": "3.8.12"
  }
 },
 "nbformat": 4,
 "nbformat_minor": 5
}
