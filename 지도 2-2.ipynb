{
 "cells": [
  {
   "cell_type": "code",
   "execution_count": 1,
   "id": "557dc0ce",
   "metadata": {},
   "outputs": [
    {
     "name": "stdout",
     "output_type": "stream",
     "text": [
      "{'name': ['제주기역', '트라몬토제주모슬포본점', '호커센터', '쉬다가게', '오만정성', '장어창고', '제주나무처럼', '쪼끄뜨레', '동명정류장', '수르르'], 'address': ['제주특별자치도 제주시 한림읍 협재1길 19-8 1층', '제주특별자치도 서귀포시 대정읍 하모항구로 38', '제주특별자치도 제주시 애월읍 애월로11길 25-2', '제주특별자치도 제주시 애월읍 구엄길 66 1층', '제주특별자치도 제주시 한림읍 일주서로 5083 1층', '제주특별자치도 제주시 한경면 두신로 146 1층', '제주특별자치도 제주시 한림읍 홍수암로 3-1 1층', '제주특별자치도 제주시 한경면 두신로 85 B동 1층', '제주특별자치도 제주시 한림읍 동명7길 26 1층', '제주특별자치도 제주시 한림읍 금능5길 26 1층'], 'OMscore': [4.889999447348223, 4.882542623090095, 4.874877772012325, 4.865095468518967, 4.862050124046679, 4.860900206988215, 4.86081974869148, 4.858890564181008, 4.856381134051071, 4.8346908593536995], 'Latitude': [33.3976259, 33.2174692, 33.4669387, 33.48025, 33.389078, 33.35517, 33.3844265, 33.35062, 33.3971282, 33.3892327], 'Longtitude': [126.2429375, 126.2498802, 126.3203654, 126.3764, 126.2504324, 126.1867, 126.2262826, 126.1833, 126.2663189, 126.2271612]}\n"
     ]
    }
   ],
   "source": [
    "import json\n",
    "f = open('OMscore.json', encoding=\"utf-8\")\n",
    "data = json.load(f)\n",
    "print(data)\n",
    "f.close()"
   ]
  },
  {
   "cell_type": "code",
   "execution_count": null,
   "id": "e4c1466e",
   "metadata": {},
   "outputs": [],
   "source": [
    "# 받아온 json형태\n",
    "{\"name\": [\"제주기역\", \"트라몬토제주모슬포본점\", \"호커센터\", \"쉬다가게\", \"오만정성\", \"장어창고\", \"제주나무처럼\", \"쪼끄뜨레\", \"동명정류장\", \"수르르\"],\n",
    "\"address\": [\"제주특별자치도 제주시 한림읍 협재1길 19-8 1층\", \"제주특별자치도 서귀포시 대정읍 하모항구로 38\", \"제주특별자치도 제주시 애월읍 애월로11길 25-2\", \"제주특별자치도 제주시 애월읍 구엄길 66 1층\", \"제주특별자치도 제주시 한림읍 일주서로 5083 1층\", \"제주특별자치도 제주시 한경면 두신로 146 1층\", \"제주특별자치도 제주시 한림읍 홍수암로 3-1 1층\", \"제주특별자치도 제주시 한경면 두신로 85 B동 1층\", \"제주특별자치도 제주시 한림읍 동명7길 26 1층\", \"제주특별자치도 제주시 한림읍 금능5길 26 1층\"], \n",
    "\"OMscore\": [4.889999447348223, 4.882542623090095, 4.874877772012325, 4.865095468518967, 4.862050124046679, 4.860900206988215, 4.86081974869148, 4.858890564181008, 4.856381134051071, 4.8346908593536995], \n",
    "\"Latitude\": [33.3976259, 33.2174692, 33.4669387, 33.48025, 33.389078, 33.35517, 33.3844265, 33.35062, 33.3971282, 33.3892327], \n",
    "\"Longtitude\": [126.2429375, 126.2498802, 126.3203654, 126.3764, 126.2504324, 126.1867, 126.2262826, 126.1833, 126.2663189, 126.2271612]}"
   ]
  },
  {
   "cell_type": "code",
   "execution_count": null,
   "id": "fa80cf3e",
   "metadata": {},
   "outputs": [],
   "source": [
    "# 따로 수정할 내용없음.따라서 곧장 map.html에서 json파싱시작"
   ]
  },
  {
   "cell_type": "code",
   "execution_count": null,
   "id": "0620e6cd",
   "metadata": {},
   "outputs": [],
   "source": [
    "# 불러온 json을 객체들중 필요 데이터만 뽑는형태로 가야할것인가.그래서  새로운[]를 만들것인가에 대한 고민중.물론\n",
    "# 현재상은 필요가 없지만 넘어오는 데이터가 어떠냐에 따라서 고민할 가치는 있음"
   ]
  },
  {
   "cell_type": "code",
   "execution_count": null,
   "id": "3db15cb4",
   "metadata": {},
   "outputs": [],
   "source": [
    "# views.py 에 추가한 지도 관련 함\n",
    "# 우선, javascript에 DB의 데이터 변수를 보내려면 json 포맷을 사용해야 하기 때문에 파이썬의 내장 json 모듈을 불러와야 함\n",
    "# dictionary 형태를 만들어줘서 json.dumps() 을 통해 json 포맷으로 변환험 \n",
    "# (참고로 json.dumps()는 메모리 상에 json 포맷 데이터를 만들어놓고 파이썬에서 계속 작업을 하는 것이고, \n",
    "# json.dump()의 경우, 디스크에 파일을 저장\n",
    "# 이라고 하지만 이해도 부족...\n",
    "\n",
    "import json\n",
    "from django.http import HttpResponse \n",
    "from django.views.decorators.csrf import csrf_exempt\n",
    "\n",
    "@csrf_exempt\n",
    "\n",
    "\n",
    "def showmap(request, tbl_person_info_id):\n",
    "    person = TBL_PERSON_INFO.objects.get(id=tbl_person_info_id)\n",
    "    contentT = {\n",
    "        'name': person.deviceid.name,\n",
    "        'address': person.deviceid.address,\n",
    "        'upjong':person.deviceid.upjong,\n",
    "        'OMscore': person.deviceid.OMscore,\n",
    "        'lat': person.deviceid.latitude,\n",
    "        'lon': person.deviceid.longitude\n",
    "       \n",
    "    }\n",
    "    personJson = json.dumps(contentT)\n",
    "    return render(request, 'map.html', {'personJson': personJson})  # 장고"
   ]
  },
  {
   "cell_type": "code",
   "execution_count": null,
   "id": "2a06c6a5",
   "metadata": {},
   "outputs": [],
   "source": [
    "{% extends 'base.html' %}\n",
    "{% load static %}\n",
    "{% block content %}"
   ]
  },
  {
   "cell_type": "code",
   "execution_count": null,
   "id": "bc201d73",
   "metadata": {},
   "outputs": [],
   "source": [
    "# 그다음 주루륵"
   ]
  }
 ],
 "metadata": {
  "kernelspec": {
   "display_name": "Python 3 (ipykernel)",
   "language": "python",
   "name": "python3"
  },
  "language_info": {
   "codemirror_mode": {
    "name": "ipython",
    "version": 3
   },
   "file_extension": ".py",
   "mimetype": "text/x-python",
   "name": "python",
   "nbconvert_exporter": "python",
   "pygments_lexer": "ipython3",
   "version": "3.8.12"
  }
 },
 "nbformat": 4,
 "nbformat_minor": 5
}
